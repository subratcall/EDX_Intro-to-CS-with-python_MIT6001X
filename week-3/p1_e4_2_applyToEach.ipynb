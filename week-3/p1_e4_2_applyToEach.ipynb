{
 "cells": [
  {
   "cell_type": "code",
   "execution_count": 1,
   "metadata": {},
   "outputs": [
    {
     "name": "stdout",
     "output_type": "stream",
     "text": [
      "[1, 4, 8, 9]\n"
     ]
    }
   ],
   "source": [
    "def applyToEach(L, f):\n",
    "    for i in range(len(L)):\n",
    "        L[i] = f(L[i])\n",
    "\n",
    "testList = [1, -4, 8, -9]\n",
    "# Apply the abs function as the second argument to each value and mutate it in place.\n",
    "applyToEach(testList, abs)\n",
    "# prints [1, 4, 8, 9]\n",
    "print(testList)"
   ]
  },
  {
   "cell_type": "code",
   "execution_count": 2,
   "metadata": {},
   "outputs": [
    {
     "name": "stdout",
     "output_type": "stream",
     "text": [
      "[2, -3, 9, -8]\n"
     ]
    }
   ],
   "source": [
    "def applyToEach(L, f):\n",
    "    for i in range(len(L)):\n",
    "        L[i] = f(L[i])\n",
    "\n",
    "def ad(x):\n",
    "    return x+1\n",
    "\n",
    "testList = [1, -4, 8, -9]\n",
    "# Pass each values of argument 1 into the ad() function and add 1 to it\n",
    "applyToEach(testList, ad)\n",
    "# prints [2, -3, 9, -8]\n",
    "print(testList)"
   ]
  },
  {
   "cell_type": "code",
   "execution_count": 3,
   "metadata": {},
   "outputs": [
    {
     "name": "stdout",
     "output_type": "stream",
     "text": [
      "[1, 16, 64, 81]\n"
     ]
    }
   ],
   "source": [
    "def applyToEach(L, f):\n",
    "    for i in range(len(L)):\n",
    "        L[i] = f(L[i])\n",
    "\n",
    "def sq(x):\n",
    "    return x*x\n",
    "\n",
    "testList = [1, -4, 8, -9]\n",
    "# Pass each value in argument 1 into the sq() fucntion in argument 2 and square it\n",
    "applyToEach(testList, sq)\n",
    "# prints [1, 16, 64, 81]\n",
    "print(testList)"
   ]
  },
  {
   "cell_type": "code",
   "execution_count": null,
   "metadata": {},
   "outputs": [],
   "source": []
  }
 ],
 "metadata": {
  "kernelspec": {
   "display_name": "Python 3",
   "language": "python",
   "name": "python3"
  },
  "language_info": {
   "codemirror_mode": {
    "name": "ipython",
    "version": 3
   },
   "file_extension": ".py",
   "mimetype": "text/x-python",
   "name": "python",
   "nbconvert_exporter": "python",
   "pygments_lexer": "ipython3",
   "version": "3.7.3"
  }
 },
 "nbformat": 4,
 "nbformat_minor": 2
}
