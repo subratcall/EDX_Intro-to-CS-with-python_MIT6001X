{
 "cells": [
  {
   "cell_type": "code",
   "execution_count": 1,
   "metadata": {},
   "outputs": [
    {
     "name": "stdout",
     "output_type": "stream",
     "text": [
      "('I', 'a', 'tuple')\n"
     ]
    }
   ],
   "source": [
    "def oddTuples(aTup):\n",
    "    '''\n",
    "    aTup: a tuple\n",
    "\n",
    "    returns: tuple, every other element of aTup.\n",
    "    '''\n",
    "    newTup = []\n",
    "\n",
    "    for i in range(len(aTup)):\n",
    "        if i%2 == 0:\n",
    "            newTup.append(aTup[i])\n",
    "    return tuple(newTup)\n",
    "\n",
    "x = ('I', 'am', 'a', 'test', 'tuple')\n",
    "print(oddTuples(x))\n"
   ]
  },
  {
   "cell_type": "code",
   "execution_count": null,
   "metadata": {},
   "outputs": [],
   "source": []
  }
 ],
 "metadata": {
  "kernelspec": {
   "display_name": "Python 3",
   "language": "python",
   "name": "python3"
  },
  "language_info": {
   "codemirror_mode": {
    "name": "ipython",
    "version": 3
   },
   "file_extension": ".py",
   "mimetype": "text/x-python",
   "name": "python",
   "nbconvert_exporter": "python",
   "pygments_lexer": "ipython3",
   "version": "3.7.3"
  }
 },
 "nbformat": 4,
 "nbformat_minor": 2
}
